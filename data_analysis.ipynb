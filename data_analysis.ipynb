{
 "cells": [
  {
   "cell_type": "code",
   "execution_count": 5,
   "metadata": {},
   "outputs": [],
   "source": [
    "from enum import Enum\n",
    "from string import punctuation, whitespace, digits\n",
    "import itertools as it"
   ]
  },
  {
   "cell_type": "code",
   "execution_count": 1,
   "metadata": {},
   "outputs": [],
   "source": [
    "import pandas as pd"
   ]
  },
  {
   "cell_type": "code",
   "execution_count": 2,
   "metadata": {},
   "outputs": [],
   "source": [
    "df = pd.read_excel(\"https://minio.apps.selfip.com/mymedia/xlxs/NCPDP.xlsx\")"
   ]
  },
  {
   "cell_type": "code",
   "execution_count": 11,
   "metadata": {},
   "outputs": [],
   "source": [
    "# Create variables to use as column names using enums.\n",
    "translation = str.maketrans(dict(zip((*punctuation, *whitespace), it.cycle(\"_\"))))"
   ]
  },
  {
   "cell_type": "code",
   "execution_count": 13,
   "metadata": {
    "scrolled": false
   },
   "outputs": [],
   "source": [
    "Columns = Enum(\n",
    "    \"Columns\",\n",
    "    type=str,\n",
    "    names=zip((item.translate(translation).upper() for item in df.columns), df.columns),\n",
    ")"
   ]
  },
  {
   "cell_type": "code",
   "execution_count": 17,
   "metadata": {},
   "outputs": [
    {
     "data": {
      "text/plain": [
       "mappingproxy({'NCIT_SUBSET_CODE': <Columns.NCIT_SUBSET_CODE: 'NCIt Subset Code'>,\n",
       "              'NCPDP_SUBSET_PREFERRED_TERM': <Columns.NCPDP_SUBSET_PREFERRED_TERM: 'NCPDP Subset Preferred Term'>,\n",
       "              'NCIT_CODE': <Columns.NCIT_CODE: 'NCIt Code'>,\n",
       "              'NCPDP_PREFERRED_TERM': <Columns.NCPDP_PREFERRED_TERM: 'NCPDP Preferred Term'>,\n",
       "              'NCPDP_SYNONYM': <Columns.NCPDP_SYNONYM: 'NCPDP Synonym'>,\n",
       "              'NCIT_PREFERRED_TERM': <Columns.NCIT_PREFERRED_TERM: 'NCIt Preferred Term'>,\n",
       "              'NCI_DEFINITION': <Columns.NCI_DEFINITION: 'NCI Definition'>})"
      ]
     },
     "execution_count": 17,
     "metadata": {},
     "output_type": "execute_result"
    }
   ],
   "source": [
    "Columns.__members__"
   ]
  },
  {
   "cell_type": "code",
   "execution_count": 19,
   "metadata": {},
   "outputs": [],
   "source": [
    "globals().update(Columns.__members__)  # Not the best practice. It is convenient!"
   ]
  },
  {
   "cell_type": "code",
   "execution_count": 20,
   "metadata": {},
   "outputs": [
    {
     "data": {
      "text/html": [
       "<div>\n",
       "<style scoped>\n",
       "    .dataframe tbody tr th:only-of-type {\n",
       "        vertical-align: middle;\n",
       "    }\n",
       "\n",
       "    .dataframe tbody tr th {\n",
       "        vertical-align: top;\n",
       "    }\n",
       "\n",
       "    .dataframe thead th {\n",
       "        text-align: right;\n",
       "    }\n",
       "</style>\n",
       "<table border=\"1\" class=\"dataframe\">\n",
       "  <thead>\n",
       "    <tr style=\"text-align: right;\">\n",
       "      <th></th>\n",
       "      <th>NCIt Subset Code</th>\n",
       "      <th>NCPDP Subset Preferred Term</th>\n",
       "      <th>NCIt Code</th>\n",
       "      <th>NCPDP Preferred Term</th>\n",
       "      <th>NCPDP Synonym</th>\n",
       "      <th>NCIt Preferred Term</th>\n",
       "      <th>NCI Definition</th>\n",
       "    </tr>\n",
       "  </thead>\n",
       "  <tbody>\n",
       "    <tr>\n",
       "      <th>0</th>\n",
       "      <td>C89507</td>\n",
       "      <td>NCPDP DEASchedule Terminology</td>\n",
       "      <td>C48672</td>\n",
       "      <td>Schedule I Substance</td>\n",
       "      <td>NaN</td>\n",
       "      <td>Schedule I Substance</td>\n",
       "      <td>A category of drugs not considered legitimate ...</td>\n",
       "    </tr>\n",
       "    <tr>\n",
       "      <th>1</th>\n",
       "      <td>C89507</td>\n",
       "      <td>NCPDP DEASchedule Terminology</td>\n",
       "      <td>C48675</td>\n",
       "      <td>Schedule II Substance</td>\n",
       "      <td>NaN</td>\n",
       "      <td>Schedule II Substance</td>\n",
       "      <td>A category of drugs considered to have a stron...</td>\n",
       "    </tr>\n",
       "    <tr>\n",
       "      <th>2</th>\n",
       "      <td>C89507</td>\n",
       "      <td>NCPDP DEASchedule Terminology</td>\n",
       "      <td>C48676</td>\n",
       "      <td>Schedule III Substance</td>\n",
       "      <td>NaN</td>\n",
       "      <td>Schedule III Substance</td>\n",
       "      <td>A category of drugs that have less potential f...</td>\n",
       "    </tr>\n",
       "    <tr>\n",
       "      <th>3</th>\n",
       "      <td>C89507</td>\n",
       "      <td>NCPDP DEASchedule Terminology</td>\n",
       "      <td>C48677</td>\n",
       "      <td>Schedule IV Substance</td>\n",
       "      <td>NaN</td>\n",
       "      <td>Schedule IV Substance</td>\n",
       "      <td>A category of medically useful drugs that have...</td>\n",
       "    </tr>\n",
       "  </tbody>\n",
       "</table>\n",
       "</div>"
      ],
      "text/plain": [
       "  NCIt Subset Code    NCPDP Subset Preferred Term NCIt Code  \\\n",
       "0           C89507  NCPDP DEASchedule Terminology    C48672   \n",
       "1           C89507  NCPDP DEASchedule Terminology    C48675   \n",
       "2           C89507  NCPDP DEASchedule Terminology    C48676   \n",
       "3           C89507  NCPDP DEASchedule Terminology    C48677   \n",
       "\n",
       "     NCPDP Preferred Term NCPDP Synonym     NCIt Preferred Term  \\\n",
       "0    Schedule I Substance           NaN    Schedule I Substance   \n",
       "1   Schedule II Substance           NaN   Schedule II Substance   \n",
       "2  Schedule III Substance           NaN  Schedule III Substance   \n",
       "3   Schedule IV Substance           NaN   Schedule IV Substance   \n",
       "\n",
       "                                      NCI Definition  \n",
       "0  A category of drugs not considered legitimate ...  \n",
       "1  A category of drugs considered to have a stron...  \n",
       "2  A category of drugs that have less potential f...  \n",
       "3  A category of medically useful drugs that have...  "
      ]
     },
     "execution_count": 20,
     "metadata": {},
     "output_type": "execute_result"
    }
   ],
   "source": [
    "df[\n",
    "    [\n",
    "        any(f\"Schedule {schedule}\" in item for schedule in (\"I\", \"II\"))\n",
    "        for item in df[NCPDP_PREFERRED_TERM]\n",
    "    ]\n",
    "]"
   ]
  },
  {
   "cell_type": "code",
   "execution_count": 21,
   "metadata": {},
   "outputs": [
    {
     "data": {
      "text/plain": [
       "(549, 7)"
      ]
     },
     "execution_count": 21,
     "metadata": {},
     "output_type": "execute_result"
    }
   ],
   "source": [
    "df.shape"
   ]
  },
  {
   "cell_type": "code",
   "execution_count": 22,
   "metadata": {},
   "outputs": [
    {
     "data": {
      "text/plain": [
       "0                   Schedule I Substance\n",
       "1                  Schedule II Substance\n",
       "2                 Schedule III Substance\n",
       "3                  Schedule IV Substance\n",
       "4                   Schedule V Substance\n",
       "5                            Unspecified\n",
       "6                              Actuation\n",
       "7                                 Ampule\n",
       "8                            Application\n",
       "9                             Applicator\n",
       "10                         Auto-Injector\n",
       "11                                   Bar\n",
       "12                                Capful\n",
       "13                                Caplet\n",
       "14                               Capsule\n",
       "15                             Cartridge\n",
       "16                            Centimeter\n",
       "17                                  Disk\n",
       "18                            Dropperful\n",
       "19                                  Each\n",
       "20                                  Film\n",
       "21                           Fluid Ounce\n",
       "22                                Gallon\n",
       "23                                  Gram\n",
       "24                                   Gum\n",
       "25                               Implant\n",
       "26                                  Inch\n",
       "27                            Inch Strip\n",
       "28                            Inhalation\n",
       "29                             Injection\n",
       "                     ...                \n",
       "519                           Femtocurie\n",
       "520                        Gigabecquerel\n",
       "521                                 Gram\n",
       "522                   International Unit\n",
       "523                        Kilobecquerel\n",
       "524                             Kilogram\n",
       "525                                Liter\n",
       "526                        Megabecquerel\n",
       "527                                mg/ml\n",
       "528                           Microcurie\n",
       "529                            Microgram\n",
       "530                    Microgram per Day\n",
       "531    Microgram per Fifteen Milliliters\n",
       "532                   Microgram per Hour\n",
       "533             Microgram per Milliliter\n",
       "534             Microgram per Three Days\n",
       "535                           Millicurie\n",
       "536                      Milliequivalent\n",
       "537                            Milligram\n",
       "538       Milligram per Five Milliliters\n",
       "539                           Milliliter\n",
       "540                            Millimole\n",
       "541                        Million Units\n",
       "542                            Nanocurie\n",
       "543                           Percentage\n",
       "544                            Picocurie\n",
       "545                                 Unit\n",
       "546                          Unspecified\n",
       "547                           Yoctocurie\n",
       "548                           Zeptocurie\n",
       "Name: NCPDP Preferred Term, Length: 549, dtype: object"
      ]
     },
     "execution_count": 22,
     "metadata": {},
     "output_type": "execute_result"
    }
   ],
   "source": [
    "df[NCPDP_PREFERRED_TERM]"
   ]
  },
  {
   "cell_type": "code",
   "execution_count": null,
   "metadata": {},
   "outputs": [],
   "source": []
  }
 ],
 "metadata": {
  "kernelspec": {
   "display_name": "Python 3",
   "language": "python",
   "name": "python3"
  },
  "language_info": {
   "codemirror_mode": {
    "name": "ipython",
    "version": 3
   },
   "file_extension": ".py",
   "mimetype": "text/x-python",
   "name": "python",
   "nbconvert_exporter": "python",
   "pygments_lexer": "ipython3",
   "version": "3.7.2"
  }
 },
 "nbformat": 4,
 "nbformat_minor": 2
}
